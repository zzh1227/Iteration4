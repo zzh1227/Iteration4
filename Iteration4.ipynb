{
 "cells": [
  {
   "cell_type": "markdown",
   "metadata": {},
   "source": [
    "# Import Dataset"
   ]
  },
  {
   "cell_type": "code",
   "execution_count": 1,
   "metadata": {},
   "outputs": [],
   "source": [
    "### This file aims to implement the whole process of data mining\n",
    "# First, we import libraries and the selected dataset\n",
    "import findspark\n",
    "findspark.init('/home/ubuntu/spark-2.1.1-bin-hadoop2.7')\n",
    "import pyspark\n",
    "from pyspark.sql import SparkSession\n",
    "spark = SparkSession.builder.appName('basics').getOrCreate()\n",
    "\n",
    "df = spark.read.csv('ChengduPM20100101_20151231.csv',header=True,inferSchema=True)"
   ]
  },
  {
   "cell_type": "markdown",
   "metadata": {},
   "source": [
    "#  Data Understanding\n",
    "###  Descirbe the data"
   ]
  },
  {
   "cell_type": "code",
   "execution_count": 2,
   "metadata": {},
   "outputs": [
    {
     "name": "stdout",
     "output_type": "stream",
     "text": [
      "Row(No=1, year=2010, month=1, day=1, hour=0, season=4, PM_Caotangsi='NA', PM_Shahepu='NA', PM_US Post='NA', DEWP='4', HUMI='81.2', PRES='1022', TEMP='7', cbwd='cv', Iws='1', precipitation='0', Iprec='0')\n",
      "Total data points: 52584\n",
      "+---+----+-----+---+----+------+------------+----------+----------+----+----+----+----+----+---+-------------+-----+\n",
      "| No|year|month|day|hour|season|PM_Caotangsi|PM_Shahepu|PM_US Post|DEWP|HUMI|PRES|TEMP|cbwd|Iws|precipitation|Iprec|\n",
      "+---+----+-----+---+----+------+------------+----------+----------+----+----+----+----+----+---+-------------+-----+\n",
      "|  1|2010|    1|  1|   0|     4|          NA|        NA|        NA|   4|81.2|1022|   7|  cv|  1|            0|    0|\n",
      "+---+----+-----+---+----+------+------------+----------+----------+----+----+----+----+----+---+-------------+-----+\n",
      "only showing top 1 row\n",
      "\n"
     ]
    }
   ],
   "source": [
    "# Check the number of rows and columns in the dataframe\n",
    "print(df.head())\n",
    "print(\"Total data points:\", df.count())\n",
    "df.show(1)"
   ]
  },
  {
   "cell_type": "code",
   "execution_count": 3,
   "metadata": {},
   "outputs": [
    {
     "name": "stdout",
     "output_type": "stream",
     "text": [
      "root\n",
      " |-- No: integer (nullable = true)\n",
      " |-- year: integer (nullable = true)\n",
      " |-- month: integer (nullable = true)\n",
      " |-- day: integer (nullable = true)\n",
      " |-- hour: integer (nullable = true)\n",
      " |-- season: integer (nullable = true)\n",
      " |-- PM_Caotangsi: string (nullable = true)\n",
      " |-- PM_Shahepu: string (nullable = true)\n",
      " |-- PM_US Post: string (nullable = true)\n",
      " |-- DEWP: string (nullable = true)\n",
      " |-- HUMI: string (nullable = true)\n",
      " |-- PRES: string (nullable = true)\n",
      " |-- TEMP: string (nullable = true)\n",
      " |-- cbwd: string (nullable = true)\n",
      " |-- Iws: string (nullable = true)\n",
      " |-- precipitation: string (nullable = true)\n",
      " |-- Iprec: string (nullable = true)\n",
      "\n"
     ]
    }
   ],
   "source": [
    "# Print schema to visualise the data structure at a high level. \n",
    "df.printSchema()"
   ]
  },
  {
   "cell_type": "code",
   "execution_count": 4,
   "metadata": {},
   "outputs": [
    {
     "name": "stdout",
     "output_type": "stream",
     "text": [
      "+-------+-----------------+------------------+-----------------+-----------------+-----------------+------------------+-----------------+------------------+-----------------+------------------+------------------+------------------+------------------+-----+-----------------+-------------------+------------------+\n",
      "|summary|               No|              year|            month|              day|             hour|            season|     PM_Caotangsi|        PM_Shahepu|       PM_US Post|              DEWP|              HUMI|              PRES|              TEMP| cbwd|              Iws|      precipitation|             Iprec|\n",
      "+-------+-----------------+------------------+-----------------+-----------------+-----------------+------------------+-----------------+------------------+-----------------+------------------+------------------+------------------+------------------+-----+-----------------+-------------------+------------------+\n",
      "|  count|            52584|             52584|            52584|            52584|            52584|             52584|            52584|             52584|            52584|             52584|             52584|             52584|             52584|52584|            52584|              52584|             52584|\n",
      "|   mean|          26292.5|2012.4997717937015|6.523961661341853|15.72660885440438|             11.5|  2.49109995435874|77.50700245700246| 75.55586728470358| 83.4076124567474|12.274555758332532|  73.2246973044604|1014.6219849029122|17.698157788577905| null|4.347654031622831|0.10716113562634773|0.5915573555783876|\n",
      "| stddev|15179.83761441472| 1.707484980622167| 3.44845248072986| 8.79889584170772|6.922252373644327|1.1169881168743458| 60.1509553197675|60.337735174178285|57.23958532229345| 7.531846105028646|17.819088190146548| 8.111353278981257| 7.843607038825492| null|6.423547248616755| 1.0233693850664316| 5.117581673849706|\n",
      "|    min|                1|              2010|                1|                1|                0|                 1|               10|                 1|                1|                -1|               100|              1000|                -1|   NA|                0|                  0|                 0|\n",
      "|    max|            52584|              2015|               12|               31|               23|                 4|               NA|                NA|               NA|                NA|                NA|                NA|                NA|   cv|               NA|                 NA|                NA|\n",
      "+-------+-----------------+------------------+-----------------+-----------------+-----------------+------------------+-----------------+------------------+-----------------+------------------+------------------+------------------+------------------+-----+-----------------+-------------------+------------------+\n",
      "\n"
     ]
    }
   ],
   "source": [
    "df.describe().show()"
   ]
  },
  {
   "cell_type": "code",
   "execution_count": 5,
   "metadata": {
    "scrolled": true
   },
   "outputs": [
    {
     "data": {
      "text/html": [
       "<div>\n",
       "<style scoped>\n",
       "    .dataframe tbody tr th:only-of-type {\n",
       "        vertical-align: middle;\n",
       "    }\n",
       "\n",
       "    .dataframe tbody tr th {\n",
       "        vertical-align: top;\n",
       "    }\n",
       "\n",
       "    .dataframe thead th {\n",
       "        text-align: right;\n",
       "    }\n",
       "</style>\n",
       "<table border=\"1\" class=\"dataframe\">\n",
       "  <thead>\n",
       "    <tr style=\"text-align: right;\">\n",
       "      <th></th>\n",
       "      <th>summary</th>\n",
       "      <th>No</th>\n",
       "      <th>year</th>\n",
       "      <th>month</th>\n",
       "      <th>day</th>\n",
       "      <th>hour</th>\n",
       "      <th>season</th>\n",
       "      <th>PM_Caotangsi</th>\n",
       "      <th>PM_Shahepu</th>\n",
       "      <th>PM_US Post</th>\n",
       "      <th>DEWP</th>\n",
       "      <th>HUMI</th>\n",
       "      <th>PRES</th>\n",
       "      <th>TEMP</th>\n",
       "      <th>cbwd</th>\n",
       "      <th>Iws</th>\n",
       "      <th>precipitation</th>\n",
       "      <th>Iprec</th>\n",
       "    </tr>\n",
       "  </thead>\n",
       "  <tbody>\n",
       "    <tr>\n",
       "      <th>0</th>\n",
       "      <td>count</td>\n",
       "      <td>52584</td>\n",
       "      <td>52584</td>\n",
       "      <td>52584</td>\n",
       "      <td>52584</td>\n",
       "      <td>52584</td>\n",
       "      <td>52584</td>\n",
       "      <td>52584</td>\n",
       "      <td>52584</td>\n",
       "      <td>52584</td>\n",
       "      <td>52584</td>\n",
       "      <td>52584</td>\n",
       "      <td>52584</td>\n",
       "      <td>52584</td>\n",
       "      <td>52584</td>\n",
       "      <td>52584</td>\n",
       "      <td>52584</td>\n",
       "      <td>52584</td>\n",
       "    </tr>\n",
       "    <tr>\n",
       "      <th>1</th>\n",
       "      <td>mean</td>\n",
       "      <td>26292.5</td>\n",
       "      <td>2012.4997717937015</td>\n",
       "      <td>6.523961661341853</td>\n",
       "      <td>15.72660885440438</td>\n",
       "      <td>11.5</td>\n",
       "      <td>2.49109995435874</td>\n",
       "      <td>77.50700245700246</td>\n",
       "      <td>75.55586728470358</td>\n",
       "      <td>83.4076124567474</td>\n",
       "      <td>12.274555758332532</td>\n",
       "      <td>73.2246973044604</td>\n",
       "      <td>1014.6219849029122</td>\n",
       "      <td>17.698157788577905</td>\n",
       "      <td>None</td>\n",
       "      <td>4.347654031622831</td>\n",
       "      <td>0.10716113562634773</td>\n",
       "      <td>0.5915573555783876</td>\n",
       "    </tr>\n",
       "    <tr>\n",
       "      <th>2</th>\n",
       "      <td>stddev</td>\n",
       "      <td>15179.83761441472</td>\n",
       "      <td>1.707484980622167</td>\n",
       "      <td>3.44845248072986</td>\n",
       "      <td>8.79889584170772</td>\n",
       "      <td>6.922252373644327</td>\n",
       "      <td>1.1169881168743458</td>\n",
       "      <td>60.1509553197675</td>\n",
       "      <td>60.337735174178285</td>\n",
       "      <td>57.23958532229345</td>\n",
       "      <td>7.531846105028646</td>\n",
       "      <td>17.819088190146548</td>\n",
       "      <td>8.111353278981257</td>\n",
       "      <td>7.843607038825492</td>\n",
       "      <td>None</td>\n",
       "      <td>6.423547248616755</td>\n",
       "      <td>1.0233693850664316</td>\n",
       "      <td>5.117581673849706</td>\n",
       "    </tr>\n",
       "    <tr>\n",
       "      <th>3</th>\n",
       "      <td>min</td>\n",
       "      <td>1</td>\n",
       "      <td>2010</td>\n",
       "      <td>1</td>\n",
       "      <td>1</td>\n",
       "      <td>0</td>\n",
       "      <td>1</td>\n",
       "      <td>10</td>\n",
       "      <td>1</td>\n",
       "      <td>1</td>\n",
       "      <td>-1</td>\n",
       "      <td>100</td>\n",
       "      <td>1000</td>\n",
       "      <td>-1</td>\n",
       "      <td>NA</td>\n",
       "      <td>0</td>\n",
       "      <td>0</td>\n",
       "      <td>0</td>\n",
       "    </tr>\n",
       "    <tr>\n",
       "      <th>4</th>\n",
       "      <td>max</td>\n",
       "      <td>52584</td>\n",
       "      <td>2015</td>\n",
       "      <td>12</td>\n",
       "      <td>31</td>\n",
       "      <td>23</td>\n",
       "      <td>4</td>\n",
       "      <td>NA</td>\n",
       "      <td>NA</td>\n",
       "      <td>NA</td>\n",
       "      <td>NA</td>\n",
       "      <td>NA</td>\n",
       "      <td>NA</td>\n",
       "      <td>NA</td>\n",
       "      <td>cv</td>\n",
       "      <td>NA</td>\n",
       "      <td>NA</td>\n",
       "      <td>NA</td>\n",
       "    </tr>\n",
       "  </tbody>\n",
       "</table>\n",
       "</div>"
      ],
      "text/plain": [
       "  summary                 No                year              month  \\\n",
       "0   count              52584               52584              52584   \n",
       "1    mean            26292.5  2012.4997717937015  6.523961661341853   \n",
       "2  stddev  15179.83761441472   1.707484980622167   3.44845248072986   \n",
       "3     min                  1                2010                  1   \n",
       "4     max              52584                2015                 12   \n",
       "\n",
       "                 day               hour              season  \\\n",
       "0              52584              52584               52584   \n",
       "1  15.72660885440438               11.5    2.49109995435874   \n",
       "2   8.79889584170772  6.922252373644327  1.1169881168743458   \n",
       "3                  1                  0                   1   \n",
       "4                 31                 23                   4   \n",
       "\n",
       "        PM_Caotangsi          PM_Shahepu         PM_US Post  \\\n",
       "0              52584               52584              52584   \n",
       "1  77.50700245700246   75.55586728470358   83.4076124567474   \n",
       "2   60.1509553197675  60.337735174178285  57.23958532229345   \n",
       "3                 10                   1                  1   \n",
       "4                 NA                  NA                 NA   \n",
       "\n",
       "                 DEWP                HUMI                PRES  \\\n",
       "0               52584               52584               52584   \n",
       "1  12.274555758332532    73.2246973044604  1014.6219849029122   \n",
       "2   7.531846105028646  17.819088190146548   8.111353278981257   \n",
       "3                  -1                 100                1000   \n",
       "4                  NA                  NA                  NA   \n",
       "\n",
       "                 TEMP   cbwd                Iws        precipitation  \\\n",
       "0               52584  52584              52584                52584   \n",
       "1  17.698157788577905   None  4.347654031622831  0.10716113562634773   \n",
       "2   7.843607038825492   None  6.423547248616755   1.0233693850664316   \n",
       "3                  -1     NA                  0                    0   \n",
       "4                  NA     cv                 NA                   NA   \n",
       "\n",
       "                Iprec  \n",
       "0               52584  \n",
       "1  0.5915573555783876  \n",
       "2   5.117581673849706  \n",
       "3                   0  \n",
       "4                  NA  "
      ]
     },
     "execution_count": 5,
     "metadata": {},
     "output_type": "execute_result"
    }
   ],
   "source": [
    "df_pandas = df.describe().toPandas()\n",
    "df_pandas"
   ]
  },
  {
   "cell_type": "markdown",
   "metadata": {},
   "source": [
    "### Explore the data"
   ]
  },
  {
   "cell_type": "code",
   "execution_count": 6,
   "metadata": {},
   "outputs": [
    {
     "data": {
      "text/html": [
       "<div>\n",
       "<style scoped>\n",
       "    .dataframe tbody tr th:only-of-type {\n",
       "        vertical-align: middle;\n",
       "    }\n",
       "\n",
       "    .dataframe tbody tr th {\n",
       "        vertical-align: top;\n",
       "    }\n",
       "\n",
       "    .dataframe thead th {\n",
       "        text-align: right;\n",
       "    }\n",
       "</style>\n",
       "<table border=\"1\" class=\"dataframe\">\n",
       "  <thead>\n",
       "    <tr style=\"text-align: right;\">\n",
       "      <th></th>\n",
       "      <th>No</th>\n",
       "      <th>year</th>\n",
       "      <th>month</th>\n",
       "      <th>day</th>\n",
       "      <th>hour</th>\n",
       "      <th>season</th>\n",
       "      <th>PM_Caotangsi</th>\n",
       "      <th>PM_Shahepu</th>\n",
       "      <th>PM_US Post</th>\n",
       "      <th>DEWP</th>\n",
       "      <th>HUMI</th>\n",
       "      <th>PRES</th>\n",
       "      <th>TEMP</th>\n",
       "      <th>cbwd</th>\n",
       "      <th>Iws</th>\n",
       "      <th>precipitation</th>\n",
       "      <th>Iprec</th>\n",
       "      <th>PM2.5</th>\n",
       "    </tr>\n",
       "  </thead>\n",
       "  <tbody>\n",
       "    <tr>\n",
       "      <th>0</th>\n",
       "      <td>1</td>\n",
       "      <td>2010</td>\n",
       "      <td>1</td>\n",
       "      <td>1</td>\n",
       "      <td>0</td>\n",
       "      <td>4</td>\n",
       "      <td>NA</td>\n",
       "      <td>NA</td>\n",
       "      <td>NA</td>\n",
       "      <td>4</td>\n",
       "      <td>81.2</td>\n",
       "      <td>1022</td>\n",
       "      <td>7</td>\n",
       "      <td>cv</td>\n",
       "      <td>1</td>\n",
       "      <td>0</td>\n",
       "      <td>0</td>\n",
       "      <td>NA</td>\n",
       "    </tr>\n",
       "  </tbody>\n",
       "</table>\n",
       "</div>"
      ],
      "text/plain": [
       "   No  year  month  day  hour  season PM_Caotangsi PM_Shahepu PM_US Post DEWP  \\\n",
       "0   1  2010      1    1     0       4           NA         NA         NA    4   \n",
       "\n",
       "   HUMI  PRES TEMP cbwd Iws precipitation Iprec PM2.5  \n",
       "0  81.2  1022    7   cv   1             0     0    NA  "
      ]
     },
     "execution_count": 6,
     "metadata": {},
     "output_type": "execute_result"
    }
   ],
   "source": [
    "# Import pandas and other libraries.\n",
    "import pandas as pd\n",
    "import numpy as np\n",
    "import matplotlib.pyplot as plt\n",
    "df_p = df.toPandas()\n",
    "\n",
    "# Create a new column named 'PM2.5'\n",
    "df_p[\"PM2.5\"] = 0\n",
    "\n",
    "# set missing values in these three columns to 0\n",
    "new = df_p[[\"PM_Caotangsi\", \"PM_Shahepu\", \"PM_US Post\"]].fillna(0)\n",
    "\n",
    "# get the maximum value among three columns and set these into column(PM2.5)\n",
    "df_p[\"PM2.5\"] = new.T.max()   \n",
    "\n",
    "# Check the heads of columns\n",
    "df_p.head(1)"
   ]
  },
  {
   "cell_type": "code",
   "execution_count": 7,
   "metadata": {},
   "outputs": [
    {
     "data": {
      "text/plain": [
       "No                int64\n",
       "year              int64\n",
       "month             int64\n",
       "day               int64\n",
       "hour              int64\n",
       "season            int64\n",
       "PM_Caotangsi     object\n",
       "PM_Shahepu       object\n",
       "PM_US Post       object\n",
       "DEWP             object\n",
       "HUMI             object\n",
       "PRES             object\n",
       "TEMP             object\n",
       "cbwd             object\n",
       "Iws              object\n",
       "precipitation    object\n",
       "Iprec            object\n",
       "PM2.5            object\n",
       "dtype: object"
      ]
     },
     "execution_count": 7,
     "metadata": {},
     "output_type": "execute_result"
    }
   ],
   "source": [
    "df_p.dtypes"
   ]
  },
  {
   "cell_type": "markdown",
   "metadata": {},
   "source": [
    "##### Converting data types"
   ]
  },
  {
   "cell_type": "code",
   "execution_count": 8,
   "metadata": {},
   "outputs": [
    {
     "data": {
      "text/plain": [
       "No                 int64\n",
       "year               int64\n",
       "month              int64\n",
       "day                int64\n",
       "hour               int64\n",
       "season             int64\n",
       "PM_Caotangsi     float64\n",
       "PM_Shahepu       float64\n",
       "PM_US Post       float64\n",
       "DEWP             float64\n",
       "HUMI             float64\n",
       "PRES             float64\n",
       "TEMP             float64\n",
       "cbwd              object\n",
       "Iws              float64\n",
       "precipitation    float64\n",
       "Iprec            float64\n",
       "dtype: object"
      ]
     },
     "execution_count": 8,
     "metadata": {},
     "output_type": "execute_result"
    }
   ],
   "source": [
    "from pyspark.sql.types import IntegerType\n",
    "\n",
    "df_pd = df.withColumn(\"PM_Caotangsi\", df[\"PM_Caotangsi\"].cast(IntegerType()))\n",
    "df_pd = df_pd.withColumn(\"PM_Shahepu\", df_pd[\"PM_Shahepu\"].cast(IntegerType()))\n",
    "df_pd = df_pd.withColumn(\"PM_US Post\", df_pd[\"PM_US Post\"].cast(IntegerType()))\n",
    "df_pd = df_pd.withColumn(\"DEWP\", df_pd[\"DEWP\"].cast(IntegerType()))\n",
    "df_pd = df_pd.withColumn(\"HUMI\", df_pd[\"HUMI\"].cast(IntegerType()))\n",
    "df_pd = df_pd.withColumn(\"PRES\", df_pd[\"PRES\"].cast(IntegerType()))\n",
    "df_pd = df_pd.withColumn(\"TEMP\", df_pd[\"TEMP\"].cast(IntegerType()))\n",
    "df_pd = df_pd.withColumn(\"Iws\", df_pd[\"Iws\"].cast(IntegerType()))\n",
    "df_pd = df_pd.withColumn(\"precipitation\", df_pd[\"precipitation\"].cast(IntegerType()))\n",
    "df_pd = df_pd.withColumn(\"Iprec\", df_pd[\"Iprec\"].cast(IntegerType()))\n",
    "\n",
    "df_pd = df_pd.toPandas()\n",
    "df_pd.dtypes"
   ]
  },
  {
   "cell_type": "code",
   "execution_count": 9,
   "metadata": {},
   "outputs": [
    {
     "data": {
      "text/html": [
       "<div>\n",
       "<style scoped>\n",
       "    .dataframe tbody tr th:only-of-type {\n",
       "        vertical-align: middle;\n",
       "    }\n",
       "\n",
       "    .dataframe tbody tr th {\n",
       "        vertical-align: top;\n",
       "    }\n",
       "\n",
       "    .dataframe thead th {\n",
       "        text-align: right;\n",
       "    }\n",
       "</style>\n",
       "<table border=\"1\" class=\"dataframe\">\n",
       "  <thead>\n",
       "    <tr style=\"text-align: right;\">\n",
       "      <th></th>\n",
       "      <th>No</th>\n",
       "      <th>year</th>\n",
       "      <th>month</th>\n",
       "      <th>day</th>\n",
       "      <th>hour</th>\n",
       "      <th>season</th>\n",
       "      <th>PM_Caotangsi</th>\n",
       "      <th>PM_Shahepu</th>\n",
       "      <th>PM_US Post</th>\n",
       "      <th>DEWP</th>\n",
       "      <th>HUMI</th>\n",
       "      <th>PRES</th>\n",
       "      <th>TEMP</th>\n",
       "      <th>cbwd</th>\n",
       "      <th>Iws</th>\n",
       "      <th>precipitation</th>\n",
       "      <th>Iprec</th>\n",
       "      <th>PM2.5</th>\n",
       "    </tr>\n",
       "  </thead>\n",
       "  <tbody>\n",
       "    <tr>\n",
       "      <th>0</th>\n",
       "      <td>1</td>\n",
       "      <td>2010</td>\n",
       "      <td>1</td>\n",
       "      <td>1</td>\n",
       "      <td>0</td>\n",
       "      <td>4</td>\n",
       "      <td>NaN</td>\n",
       "      <td>NaN</td>\n",
       "      <td>NaN</td>\n",
       "      <td>4.0</td>\n",
       "      <td>81.0</td>\n",
       "      <td>1022.0</td>\n",
       "      <td>7.0</td>\n",
       "      <td>cv</td>\n",
       "      <td>1.0</td>\n",
       "      <td>0.0</td>\n",
       "      <td>0.0</td>\n",
       "      <td>NaN</td>\n",
       "    </tr>\n",
       "  </tbody>\n",
       "</table>\n",
       "</div>"
      ],
      "text/plain": [
       "   No  year  month  day  hour  season  PM_Caotangsi  PM_Shahepu  PM_US Post  \\\n",
       "0   1  2010      1    1     0       4           NaN         NaN         NaN   \n",
       "\n",
       "   DEWP  HUMI    PRES  TEMP cbwd  Iws  precipitation  Iprec  PM2.5  \n",
       "0   4.0  81.0  1022.0   7.0   cv  1.0            0.0    0.0    NaN  "
      ]
     },
     "execution_count": 9,
     "metadata": {},
     "output_type": "execute_result"
    }
   ],
   "source": [
    "# Create a new column named 'PM2.5'\n",
    "df_pd[\"PM2.5\"] = 0\n",
    "# set missing values in these three columns to 0\n",
    "new = df_pd[[\"PM_Caotangsi\", \"PM_Shahepu\", \"PM_US Post\"]]\n",
    "# get the maximum value among three columns and set these into column(PM2.5)\n",
    "df_pd[\"PM2.5\"] = new.T.max()   \n",
    "# Check the heads of columns\n",
    "df_pd.head(1)"
   ]
  },
  {
   "cell_type": "markdown",
   "metadata": {},
   "source": [
    "### Data Pre-visualization"
   ]
  },
  {
   "cell_type": "code",
   "execution_count": 10,
   "metadata": {},
   "outputs": [
    {
     "data": {
      "image/png": "[encoded data removed]",
      "text/plain": [
       "<Figure size 432x288 with 1 Axes>"
      ]
     },
     "metadata": {},
     "output_type": "display_data"
    },
    {
     "data": {
      "image/png": "[encoded data removed]",
      "text/plain": [
       "<Figure size 432x288 with 1 Axes>"
      ]
     },
     "metadata": {},
     "output_type": "display_data"
    }
   ],
   "source": [
    "### Data pre-visualization ###\n",
    "\n",
    "def scatterplot(x_data, y_data, x_label=\"\", y_label=\"\", title=\"\", color = \"r\", yscale_log=False):\n",
    "\n",
    "    # Create the plot object\n",
    "    _, ax = plt.subplots()\n",
    "\n",
    "    # Plot the data, set the size (s), color and transparency (alpha)\n",
    "    # of the points\n",
    "    ax.scatter(x_data, y_data, s = 10, color = color, alpha = 0.75)\n",
    "\n",
    "    if yscale_log == True:\n",
    "        ax.set_yscale('log')\n",
    "\n",
    "    # Label the axes and provide a title\n",
    "    ax.set_title(title)\n",
    "    ax.set_xlabel(x_label)\n",
    "    ax.set_ylabel(y_label)\n",
    "    \n",
    "scatterplot(df_pd[\"season\"], df_pd[\"PM2.5\"], 'Season', \"PM 2.5\", \"PM 2.5/ Season\")  \n",
    " \n",
    "scatterplot(df_pd[\"TEMP\"], df_pd[\"PM2.5\"], \"Temperature\", 'PM 2.5', \"PM 2.5/ Temperature\")"
   ]
  },
  {
   "cell_type": "markdown",
   "metadata": {},
   "source": [
    "### Verify the data quality"
   ]
  },
  {
   "cell_type": "code",
   "execution_count": 11,
   "metadata": {},
   "outputs": [
    {
     "data": {
      "text/plain": [
       "PM_Caotangsi     28164\n",
       "PM_Shahepu       27990\n",
       "PM_US Post       23684\n",
       "PM2.5            22082\n",
       "Iprec             2955\n",
       "precipitation     2955\n",
       "HUMI               535\n",
       "Iws                533\n",
       "DEWP               529\n",
       "TEMP               527\n",
       "PRES               521\n",
       "cbwd                 0\n",
       "season               0\n",
       "hour                 0\n",
       "day                  0\n",
       "month                0\n",
       "year                 0\n",
       "No                   0\n",
       "dtype: int64"
      ]
     },
     "execution_count": 11,
     "metadata": {},
     "output_type": "execute_result"
    }
   ],
   "source": [
    "# Check the number of null value in each column\n",
    "df_pd.isna().sum().sort_values(ascending= False)"
   ]
  },
  {
   "cell_type": "code",
   "execution_count": 12,
   "metadata": {},
   "outputs": [
    {
     "data": {
      "text/html": [
       "<div>\n",
       "<style scoped>\n",
       "    .dataframe tbody tr th:only-of-type {\n",
       "        vertical-align: middle;\n",
       "    }\n",
       "\n",
       "    .dataframe tbody tr th {\n",
       "        vertical-align: top;\n",
       "    }\n",
       "\n",
       "    .dataframe thead th {\n",
       "        text-align: right;\n",
       "    }\n",
       "</style>\n",
       "<table border=\"1\" class=\"dataframe\">\n",
       "  <thead>\n",
       "    <tr style=\"text-align: right;\">\n",
       "      <th></th>\n",
       "      <th>No</th>\n",
       "      <th>year</th>\n",
       "      <th>month</th>\n",
       "      <th>day</th>\n",
       "      <th>hour</th>\n",
       "      <th>season</th>\n",
       "      <th>PM_Caotangsi</th>\n",
       "      <th>PM_Shahepu</th>\n",
       "      <th>PM_US Post</th>\n",
       "      <th>DEWP</th>\n",
       "      <th>HUMI</th>\n",
       "      <th>PRES</th>\n",
       "      <th>TEMP</th>\n",
       "      <th>Iws</th>\n",
       "      <th>precipitation</th>\n",
       "      <th>Iprec</th>\n",
       "      <th>PM2.5</th>\n",
       "    </tr>\n",
       "  </thead>\n",
       "  <tbody>\n",
       "    <tr>\n",
       "      <th>count</th>\n",
       "      <td>52584.000000</td>\n",
       "      <td>52584.000000</td>\n",
       "      <td>52584.000000</td>\n",
       "      <td>52584.000000</td>\n",
       "      <td>52584.000000</td>\n",
       "      <td>52584.000000</td>\n",
       "      <td>24420.000000</td>\n",
       "      <td>24594.000000</td>\n",
       "      <td>28900.000000</td>\n",
       "      <td>52055.000000</td>\n",
       "      <td>52049.000000</td>\n",
       "      <td>52063.000000</td>\n",
       "      <td>52057.000000</td>\n",
       "      <td>52051.000000</td>\n",
       "      <td>49629.000000</td>\n",
       "      <td>49629.000000</td>\n",
       "      <td>30502.000000</td>\n",
       "    </tr>\n",
       "    <tr>\n",
       "      <th>mean</th>\n",
       "      <td>26292.500000</td>\n",
       "      <td>2012.499772</td>\n",
       "      <td>6.523962</td>\n",
       "      <td>15.726609</td>\n",
       "      <td>11.500000</td>\n",
       "      <td>2.491100</td>\n",
       "      <td>77.507002</td>\n",
       "      <td>75.555867</td>\n",
       "      <td>83.407612</td>\n",
       "      <td>12.274556</td>\n",
       "      <td>72.752887</td>\n",
       "      <td>1014.471659</td>\n",
       "      <td>17.698158</td>\n",
       "      <td>4.347582</td>\n",
       "      <td>0.080376</td>\n",
       "      <td>0.557900</td>\n",
       "      <td>90.087535</td>\n",
       "    </tr>\n",
       "    <tr>\n",
       "      <th>std</th>\n",
       "      <td>15179.837614</td>\n",
       "      <td>1.707485</td>\n",
       "      <td>3.448452</td>\n",
       "      <td>8.798896</td>\n",
       "      <td>6.922252</td>\n",
       "      <td>1.116988</td>\n",
       "      <td>60.150955</td>\n",
       "      <td>60.337735</td>\n",
       "      <td>57.239585</td>\n",
       "      <td>7.531846</td>\n",
       "      <td>17.855731</td>\n",
       "      <td>8.122017</td>\n",
       "      <td>7.843607</td>\n",
       "      <td>6.423578</td>\n",
       "      <td>0.986758</td>\n",
       "      <td>5.071312</td>\n",
       "      <td>63.147986</td>\n",
       "    </tr>\n",
       "    <tr>\n",
       "      <th>min</th>\n",
       "      <td>1.000000</td>\n",
       "      <td>2010.000000</td>\n",
       "      <td>1.000000</td>\n",
       "      <td>1.000000</td>\n",
       "      <td>0.000000</td>\n",
       "      <td>1.000000</td>\n",
       "      <td>3.000000</td>\n",
       "      <td>1.000000</td>\n",
       "      <td>1.000000</td>\n",
       "      <td>-16.000000</td>\n",
       "      <td>12.000000</td>\n",
       "      <td>991.000000</td>\n",
       "      <td>-3.000000</td>\n",
       "      <td>0.000000</td>\n",
       "      <td>0.000000</td>\n",
       "      <td>0.000000</td>\n",
       "      <td>1.000000</td>\n",
       "    </tr>\n",
       "    <tr>\n",
       "      <th>25%</th>\n",
       "      <td>13146.750000</td>\n",
       "      <td>2011.000000</td>\n",
       "      <td>4.000000</td>\n",
       "      <td>8.000000</td>\n",
       "      <td>5.750000</td>\n",
       "      <td>1.000000</td>\n",
       "      <td>37.000000</td>\n",
       "      <td>35.000000</td>\n",
       "      <td>44.000000</td>\n",
       "      <td>6.000000</td>\n",
       "      <td>61.000000</td>\n",
       "      <td>1008.000000</td>\n",
       "      <td>11.000000</td>\n",
       "      <td>1.000000</td>\n",
       "      <td>0.000000</td>\n",
       "      <td>0.000000</td>\n",
       "      <td>47.000000</td>\n",
       "    </tr>\n",
       "    <tr>\n",
       "      <th>50%</th>\n",
       "      <td>26292.500000</td>\n",
       "      <td>2012.000000</td>\n",
       "      <td>7.000000</td>\n",
       "      <td>16.000000</td>\n",
       "      <td>11.500000</td>\n",
       "      <td>2.000000</td>\n",
       "      <td>60.000000</td>\n",
       "      <td>57.000000</td>\n",
       "      <td>68.000000</td>\n",
       "      <td>13.000000</td>\n",
       "      <td>77.000000</td>\n",
       "      <td>1014.000000</td>\n",
       "      <td>18.000000</td>\n",
       "      <td>2.000000</td>\n",
       "      <td>0.000000</td>\n",
       "      <td>0.000000</td>\n",
       "      <td>72.000000</td>\n",
       "    </tr>\n",
       "    <tr>\n",
       "      <th>75%</th>\n",
       "      <td>39438.250000</td>\n",
       "      <td>2014.000000</td>\n",
       "      <td>10.000000</td>\n",
       "      <td>23.000000</td>\n",
       "      <td>17.250000</td>\n",
       "      <td>3.000000</td>\n",
       "      <td>99.000000</td>\n",
       "      <td>97.000000</td>\n",
       "      <td>105.000000</td>\n",
       "      <td>19.000000</td>\n",
       "      <td>87.000000</td>\n",
       "      <td>1021.000000</td>\n",
       "      <td>24.000000</td>\n",
       "      <td>5.000000</td>\n",
       "      <td>0.000000</td>\n",
       "      <td>0.000000</td>\n",
       "      <td>114.000000</td>\n",
       "    </tr>\n",
       "    <tr>\n",
       "      <th>max</th>\n",
       "      <td>52584.000000</td>\n",
       "      <td>2015.000000</td>\n",
       "      <td>12.000000</td>\n",
       "      <td>31.000000</td>\n",
       "      <td>23.000000</td>\n",
       "      <td>4.000000</td>\n",
       "      <td>662.000000</td>\n",
       "      <td>573.000000</td>\n",
       "      <td>688.000000</td>\n",
       "      <td>28.000000</td>\n",
       "      <td>100.000000</td>\n",
       "      <td>1041.000000</td>\n",
       "      <td>38.000000</td>\n",
       "      <td>120.000000</td>\n",
       "      <td>57.000000</td>\n",
       "      <td>169.000000</td>\n",
       "      <td>688.000000</td>\n",
       "    </tr>\n",
       "  </tbody>\n",
       "</table>\n",
       "</div>"
      ],
      "text/plain": [
       "                 No          year         month           day          hour  \\\n",
       "count  52584.000000  52584.000000  52584.000000  52584.000000  52584.000000   \n",
       "mean   26292.500000   2012.499772      6.523962     15.726609     11.500000   \n",
       "std    15179.837614      1.707485      3.448452      8.798896      6.922252   \n",
       "min        1.000000   2010.000000      1.000000      1.000000      0.000000   \n",
       "25%    13146.750000   2011.000000      4.000000      8.000000      5.750000   \n",
       "50%    26292.500000   2012.000000      7.000000     16.000000     11.500000   \n",
       "75%    39438.250000   2014.000000     10.000000     23.000000     17.250000   \n",
       "max    52584.000000   2015.000000     12.000000     31.000000     23.000000   \n",
       "\n",
       "             season  PM_Caotangsi    PM_Shahepu    PM_US Post          DEWP  \\\n",
       "count  52584.000000  24420.000000  24594.000000  28900.000000  52055.000000   \n",
       "mean       2.491100     77.507002     75.555867     83.407612     12.274556   \n",
       "std        1.116988     60.150955     60.337735     57.239585      7.531846   \n",
       "min        1.000000      3.000000      1.000000      1.000000    -16.000000   \n",
       "25%        1.000000     37.000000     35.000000     44.000000      6.000000   \n",
       "50%        2.000000     60.000000     57.000000     68.000000     13.000000   \n",
       "75%        3.000000     99.000000     97.000000    105.000000     19.000000   \n",
       "max        4.000000    662.000000    573.000000    688.000000     28.000000   \n",
       "\n",
       "               HUMI          PRES          TEMP           Iws  precipitation  \\\n",
       "count  52049.000000  52063.000000  52057.000000  52051.000000   49629.000000   \n",
       "mean      72.752887   1014.471659     17.698158      4.347582       0.080376   \n",
       "std       17.855731      8.122017      7.843607      6.423578       0.986758   \n",
       "min       12.000000    991.000000     -3.000000      0.000000       0.000000   \n",
       "25%       61.000000   1008.000000     11.000000      1.000000       0.000000   \n",
       "50%       77.000000   1014.000000     18.000000      2.000000       0.000000   \n",
       "75%       87.000000   1021.000000     24.000000      5.000000       0.000000   \n",
       "max      100.000000   1041.000000     38.000000    120.000000      57.000000   \n",
       "\n",
       "              Iprec         PM2.5  \n",
       "count  49629.000000  30502.000000  \n",
       "mean       0.557900     90.087535  \n",
       "std        5.071312     63.147986  \n",
       "min        0.000000      1.000000  \n",
       "25%        0.000000     47.000000  \n",
       "50%        0.000000     72.000000  \n",
       "75%        0.000000    114.000000  \n",
       "max      169.000000    688.000000  "
      ]
     },
     "execution_count": 12,
     "metadata": {},
     "output_type": "execute_result"
    }
   ],
   "source": [
    "df_pd.describe()"
   ]
  },
  {
   "cell_type": "markdown",
   "metadata": {},
   "source": [
    "# Data Preparation\n",
    "### Select and Clean the data"
   ]
  },
  {
   "cell_type": "code",
   "execution_count": 13,
   "metadata": {
    "scrolled": true
   },
   "outputs": [
    {
     "name": "stdout",
     "output_type": "stream",
     "text": [
      "(28779, 14)\n"
     ]
    },
    {
     "data": {
      "text/html": [
       "<div>\n",
       "<style scoped>\n",
       "    .dataframe tbody tr th:only-of-type {\n",
       "        vertical-align: middle;\n",
       "    }\n",
       "\n",
       "    .dataframe tbody tr th {\n",
       "        vertical-align: top;\n",
       "    }\n",
       "\n",
       "    .dataframe thead th {\n",
       "        text-align: right;\n",
       "    }\n",
       "</style>\n",
       "<table border=\"1\" class=\"dataframe\">\n",
       "  <thead>\n",
       "    <tr style=\"text-align: right;\">\n",
       "      <th></th>\n",
       "      <th>year</th>\n",
       "      <th>month</th>\n",
       "      <th>day</th>\n",
       "      <th>hour</th>\n",
       "      <th>season</th>\n",
       "      <th>DEWP</th>\n",
       "      <th>HUMI</th>\n",
       "      <th>PRES</th>\n",
       "      <th>TEMP</th>\n",
       "      <th>cbwd</th>\n",
       "      <th>Iws</th>\n",
       "      <th>precipitation</th>\n",
       "      <th>Iprec</th>\n",
       "      <th>PM2.5</th>\n",
       "    </tr>\n",
       "  </thead>\n",
       "  <tbody>\n",
       "    <tr>\n",
       "      <th>20750</th>\n",
       "      <td>2012</td>\n",
       "      <td>5</td>\n",
       "      <td>14</td>\n",
       "      <td>14</td>\n",
       "      <td>1</td>\n",
       "      <td>4.0</td>\n",
       "      <td>24.0</td>\n",
       "      <td>1013.0</td>\n",
       "      <td>26.0</td>\n",
       "      <td>cv</td>\n",
       "      <td>2.0</td>\n",
       "      <td>0.0</td>\n",
       "      <td>0.0</td>\n",
       "      <td>46.0</td>\n",
       "    </tr>\n",
       "  </tbody>\n",
       "</table>\n",
       "</div>"
      ],
      "text/plain": [
       "       year  month  day  hour  season  DEWP  HUMI    PRES  TEMP cbwd  Iws  \\\n",
       "20750  2012      5   14    14       1   4.0  24.0  1013.0  26.0   cv  2.0   \n",
       "\n",
       "       precipitation  Iprec  PM2.5  \n",
       "20750            0.0    0.0   46.0  "
      ]
     },
     "execution_count": 13,
     "metadata": {},
     "output_type": "execute_result"
    }
   ],
   "source": [
    "# filter out columns which we don't need any more and None value as well  \n",
    "df_pd = df_pd.drop([\"No\", \"PM_Caotangsi\", \"PM_Shahepu\", \"PM_US Post\"], axis=1)\n",
    "df_pd = df_pd.dropna()\n",
    "print(df_pd.shape)\n",
    "df_pd.head(1)"
   ]
  },
  {
   "cell_type": "markdown",
   "metadata": {},
   "source": [
    "### Second Visualisation after Cleaning the Data"
   ]
  },
  {
   "cell_type": "code",
   "execution_count": 14,
   "metadata": {},
   "outputs": [
    {
     "data": {
      "text/plain": [
       "array([[<matplotlib.axes._subplots.AxesSubplot object at 0x7f15ffc44b38>,\n",
       "        <matplotlib.axes._subplots.AxesSubplot object at 0x7f15ffa8cc18>,\n",
       "        <matplotlib.axes._subplots.AxesSubplot object at 0x7f15ff9d0f28>,\n",
       "        <matplotlib.axes._subplots.AxesSubplot object at 0x7f15ffb70278>],\n",
       "       [<matplotlib.axes._subplots.AxesSubplot object at 0x7f15ff4f0588>,\n",
       "        <matplotlib.axes._subplots.AxesSubplot object at 0x7f15fef7e898>,\n",
       "        <matplotlib.axes._subplots.AxesSubplot object at 0x7f15fe0c0b70>,\n",
       "        <matplotlib.axes._subplots.AxesSubplot object at 0x7f160014ce80>],\n",
       "       [<matplotlib.axes._subplots.AxesSubplot object at 0x7f15ff8a01d0>,\n",
       "        <matplotlib.axes._subplots.AxesSubplot object at 0x7f15ff56a4e0>,\n",
       "        <matplotlib.axes._subplots.AxesSubplot object at 0x7f15ff4707f0>,\n",
       "        <matplotlib.axes._subplots.AxesSubplot object at 0x7f15ff33bb00>],\n",
       "       [<matplotlib.axes._subplots.AxesSubplot object at 0x7f15fecc4e10>,\n",
       "        <matplotlib.axes._subplots.AxesSubplot object at 0x7f15fe8a1160>,\n",
       "        <matplotlib.axes._subplots.AxesSubplot object at 0x7f15fd9343c8>,\n",
       "        <matplotlib.axes._subplots.AxesSubplot object at 0x7f15fe7d43c8>]],\n",
       "      dtype=object)"
      ]
     },
     "execution_count": 14,
     "metadata": {},
     "output_type": "execute_result"
    },
    {
     "data": {
      "image/png": "[encoded data removed]",
      "text/plain": [
       "<Figure size 792x792 with 16 Axes>"
      ]
     },
     "metadata": {},
     "output_type": "display_data"
    }
   ],
   "source": [
    "# check data quality by visualisation after cleaning\n",
    "df_pd[df_pd.dtypes[(df_pd.dtypes==\"float64\")|(df_pd.dtypes==\"int64\")].index.values].hist(figsize=[11,11])"
   ]
  },
  {
   "cell_type": "markdown",
   "metadata": {},
   "source": [
    "# Data Transformation\n",
    "### Project the data"
   ]
  },
  {
   "cell_type": "code",
   "execution_count": 15,
   "metadata": {},
   "outputs": [
    {
     "data": {
      "text/plain": [
       "year               int64\n",
       "month              int64\n",
       "day                int64\n",
       "hour               int64\n",
       "season             int64\n",
       "DEWP             float64\n",
       "HUMI             float64\n",
       "PRES             float64\n",
       "TEMP             float64\n",
       "cbwd              object\n",
       "Iws              float64\n",
       "precipitation    float64\n",
       "Iprec            float64\n",
       "PM2.5            float64\n",
       "dtype: object"
      ]
     },
     "execution_count": 15,
     "metadata": {},
     "output_type": "execute_result"
    }
   ],
   "source": [
    "# check the data types of columns(parameters)\n",
    "df_pd.dtypes"
   ]
  },
  {
   "cell_type": "code",
   "execution_count": 16,
   "metadata": {},
   "outputs": [
    {
     "name": "stdout",
     "output_type": "stream",
     "text": [
      "NE     3003\n",
      "NW     5259\n",
      "SE     1675\n",
      "SW     5324\n",
      "cv    13518\n",
      "dtype: int64\n"
     ]
    }
   ],
   "source": [
    "# Check the elements in the column named \"cbwd\"\n",
    "print(pd.get_dummies(df_pd[\"cbwd\"]).sum())"
   ]
  },
  {
   "cell_type": "code",
   "execution_count": 17,
   "metadata": {},
   "outputs": [
    {
     "name": "stdout",
     "output_type": "stream",
     "text": [
      "0    13518\n",
      "1     3003\n",
      "2     5259\n",
      "3     1675\n",
      "4     5324\n",
      "dtype: int64\n"
     ]
    }
   ],
   "source": [
    "# define a function to reclassify cbwd\n",
    "def cbwd_tf(x):\n",
    "    if x == 'cv':\n",
    "        return 0\n",
    "    elif x == 'NE':\n",
    "        return 1\n",
    "    elif x == 'NW':\n",
    "        return 2\n",
    "    elif x == 'SE':\n",
    "        return 3\n",
    "    elif x == 'SW':\n",
    "        return 4\n",
    "df_pd['cbwd'] = df_pd.apply(lambda x: cbwd_tf(x['cbwd']), axis = 1)\n",
    "\n",
    "# Check the elements in the column named \"cbwd\" again\n",
    "print(pd.get_dummies(df_pd[\"cbwd\"]).sum())"
   ]
  },
  {
   "cell_type": "markdown",
   "metadata": {},
   "source": [
    "### PM2.5 Reclassification "
   ]
  },
  {
   "cell_type": "code",
   "execution_count": 18,
   "metadata": {},
   "outputs": [
    {
     "name": "stdout",
     "output_type": "stream",
     "text": [
      "1     8183\n",
      "2    11396\n",
      "3     4856\n",
      "4     4344\n",
      "dtype: int64\n"
     ]
    }
   ],
   "source": [
    "# define a function to reclassity PM2.5\n",
    "def pm_tf(a):\n",
    "    if a<=50:\n",
    "        return 1\n",
    "    elif a>50 and a<=100:\n",
    "        return 2\n",
    "    elif a>100 and a<=150:\n",
    "        return 3\n",
    "    elif a>150:\n",
    "        return 4\n",
    "df_pd['PM2.5'] = df_pd.apply(lambda a: pm_tf(a['PM2.5']), axis = 1)\n",
    "\n",
    "# Check the elements in the column 'PM2.5'\n",
    "print(pd.get_dummies(df_pd['PM2.5']).sum())"
   ]
  },
  {
   "cell_type": "code",
   "execution_count": 19,
   "metadata": {
    "scrolled": true
   },
   "outputs": [
    {
     "data": {
      "image/png": "[encoded data removed]",
      "text/plain": [
       "<Figure size 432x288 with 1 Axes>"
      ]
     },
     "metadata": {},
     "output_type": "display_data"
    }
   ],
   "source": [
    "# Visualize the distribution in PM2.5\n",
    "labels = []\n",
    "for i, dfi in enumerate(df_pd.groupby([\"PM2.5\"])):\n",
    "    labels.append(dfi[0])\n",
    "    plt.bar(i, dfi[1].count(), label=dfi[0])\n",
    "plt.xticks(range(len(labels)), labels)\n",
    "plt.legend()\n",
    "plt.show()"
   ]
  },
  {
   "cell_type": "markdown",
   "metadata": {},
   "source": [
    "### Data Balance"
   ]
  },
  {
   "cell_type": "code",
   "execution_count": 20,
   "metadata": {
    "scrolled": true
   },
   "outputs": [
    {
     "name": "stdout",
     "output_type": "stream",
     "text": [
      "Class 1: 8183\n",
      "Class 2: 11396\n",
      "Class 3: 4856\n",
      "Class 4: 4344\n",
      "28779\n",
      "Proportion: 0.284 : 0.396 : 0.169 : 0.151\n"
     ]
    }
   ],
   "source": [
    "# Quantity Statistics and Proportion Calculation\n",
    "\n",
    "target_count = df_pd['PM2.5'].value_counts()\n",
    "print('Class 1:', target_count[1])\n",
    "print('Class 2:', target_count[2])\n",
    "print('Class 3:', target_count[3])\n",
    "print('Class 4:', target_count[4])\n",
    "print(target_count.sum())\n",
    "print('Proportion:', round(target_count[1]/28779,3) , ':',round(target_count[2]/28779,3) , ':',round(target_count[3]/28779,3) , ':',round(target_count[4]/28779,3))\n"
   ]
  },
  {
   "cell_type": "code",
   "execution_count": 21,
   "metadata": {
    "scrolled": false
   },
   "outputs": [
    {
     "name": "stdout",
     "output_type": "stream",
     "text": [
      "Random Under-Sampling:\n",
      "4    4344\n",
      "3    4344\n",
      "2    4344\n",
      "1    4344\n",
      "Name: PM2.5, dtype: int64\n"
     ]
    },
    {
     "data": {
      "image/png": "[encoded data removed]",
      "text/plain": [
       "<Figure size 432x288 with 1 Axes>"
      ]
     },
     "metadata": {},
     "output_type": "display_data"
    }
   ],
   "source": [
    "# Class count\n",
    "count_class_1, count_class_2, count_class_3, count_class_4 = df_pd['PM2.5'].value_counts()\n",
    "\n",
    "# Divide by class\n",
    "df_class_1 = df_pd[df_pd['PM2.5'] == 1]\n",
    "df_class_2 = df_pd[df_pd['PM2.5'] == 2]\n",
    "df_class_3 = df_pd[df_pd['PM2.5'] == 3]\n",
    "df_class_4 = df_pd[df_pd['PM2.5'] == 4]\n",
    "\n",
    "df_class_3_under = df_class_3.sample(count_class_4,replace=True)\n",
    "df_class_2_under = df_class_2.sample(count_class_4,replace=True)\n",
    "df_class_1_under = df_class_1.sample(count_class_4,replace=True)\n",
    "df_pd_balanced = pd.concat([df_class_1_under,df_class_2_under,df_class_3_under, df_class_4], axis=0)\n",
    "\n",
    "print('Random Under-Sampling:')\n",
    "print(df_pd_balanced['PM2.5'].value_counts())\n",
    "\n",
    "df_pd_balanced['PM2.5'].value_counts().plot(kind='bar', title='Count (PM2.5)');"
   ]
  },
  {
   "cell_type": "code",
   "execution_count": 22,
   "metadata": {},
   "outputs": [
    {
     "data": {
      "text/plain": [
       "17376"
      ]
     },
     "execution_count": 22,
     "metadata": {},
     "output_type": "execute_result"
    }
   ],
   "source": [
    "# Data statistics\n",
    "df_pd_balanced['PM2.5'].value_counts().sum()"
   ]
  },
  {
   "cell_type": "markdown",
   "metadata": {},
   "source": [
    "### Converting the balanced dataset back to PySpark dataframe"
   ]
  },
  {
   "cell_type": "code",
   "execution_count": 23,
   "metadata": {
    "scrolled": true
   },
   "outputs": [
    {
     "data": {
      "text/plain": [
       "year               int64\n",
       "month              int64\n",
       "day                int64\n",
       "hour               int64\n",
       "season             int64\n",
       "DEWP             float64\n",
       "HUMI             float64\n",
       "PRES             float64\n",
       "TEMP             float64\n",
       "cbwd               int64\n",
       "Iws              float64\n",
       "precipitation    float64\n",
       "Iprec            float64\n",
       "PM2.5              int64\n",
       "dtype: object"
      ]
     },
     "execution_count": 23,
     "metadata": {},
     "output_type": "execute_result"
    }
   ],
   "source": [
    "#Check data types of the balanced dataset in pandas dataframe\n",
    "df_pd_balanced.dtypes"
   ]
  },
  {
   "cell_type": "code",
   "execution_count": 24,
   "metadata": {
    "scrolled": true
   },
   "outputs": [
    {
     "name": "stdout",
     "output_type": "stream",
     "text": [
      "Total data points in Spark dataframe: 17376\n",
      "Total data points in Pandas dataframe: 17376\n",
      "+----+-----+---+----+------+----+----+------+----+----+----+-------------+-----+---+\n",
      "|year|month|day|hour|season|DEWP|HUMI|  PRES|TEMP|cbwd| Iws|precipitation|Iprec|PML|\n",
      "+----+-----+---+----+------+----+----+------+----+----+----+-------------+-----+---+\n",
      "|2012|    7| 10|   0|     2|22.0|83.0|1004.0|25.0|   2|19.0|          0.0|  0.0|  1|\n",
      "+----+-----+---+----+------+----+----+------+----+----+----+-------------+-----+---+\n",
      "only showing top 1 row\n",
      "\n"
     ]
    },
    {
     "data": {
      "text/html": [
       "<div>\n",
       "<style scoped>\n",
       "    .dataframe tbody tr th:only-of-type {\n",
       "        vertical-align: middle;\n",
       "    }\n",
       "\n",
       "    .dataframe tbody tr th {\n",
       "        vertical-align: top;\n",
       "    }\n",
       "\n",
       "    .dataframe thead th {\n",
       "        text-align: right;\n",
       "    }\n",
       "</style>\n",
       "<table border=\"1\" class=\"dataframe\">\n",
       "  <thead>\n",
       "    <tr style=\"text-align: right;\">\n",
       "      <th></th>\n",
       "      <th>year</th>\n",
       "      <th>month</th>\n",
       "      <th>day</th>\n",
       "      <th>hour</th>\n",
       "      <th>season</th>\n",
       "      <th>DEWP</th>\n",
       "      <th>HUMI</th>\n",
       "      <th>PRES</th>\n",
       "      <th>TEMP</th>\n",
       "      <th>cbwd</th>\n",
       "      <th>Iws</th>\n",
       "      <th>precipitation</th>\n",
       "      <th>Iprec</th>\n",
       "      <th>PM2.5</th>\n",
       "    </tr>\n",
       "  </thead>\n",
       "  <tbody>\n",
       "    <tr>\n",
       "      <th>22104</th>\n",
       "      <td>2012</td>\n",
       "      <td>7</td>\n",
       "      <td>10</td>\n",
       "      <td>0</td>\n",
       "      <td>2</td>\n",
       "      <td>22.0</td>\n",
       "      <td>83.0</td>\n",
       "      <td>1004.0</td>\n",
       "      <td>25.0</td>\n",
       "      <td>2</td>\n",
       "      <td>19.0</td>\n",
       "      <td>0.0</td>\n",
       "      <td>0.0</td>\n",
       "      <td>1</td>\n",
       "    </tr>\n",
       "  </tbody>\n",
       "</table>\n",
       "</div>"
      ],
      "text/plain": [
       "       year  month  day  hour  season  DEWP  HUMI    PRES  TEMP  cbwd   Iws  \\\n",
       "22104  2012      7   10     0       2  22.0  83.0  1004.0  25.0     2  19.0   \n",
       "\n",
       "       precipitation  Iprec  PM2.5  \n",
       "22104            0.0    0.0      1  "
      ]
     },
     "execution_count": 24,
     "metadata": {},
     "output_type": "execute_result"
    }
   ],
   "source": [
    "#Creat a new schema based on the columns' titles and types in pandas dataframe\n",
    "from pyspark.sql.types import *\n",
    "\n",
    "mySchema = StructType([ StructField(\"year\", IntegerType(), True)\\\n",
    "                       ,StructField(\"month\", IntegerType(), True)\\\n",
    "                       ,StructField(\"day\", IntegerType(), True)\\\n",
    "                       ,StructField(\"hour\", IntegerType(), True)\\\n",
    "                       ,StructField(\"season\", IntegerType(), True)\\\n",
    "                       ,StructField(\"DEWP\", FloatType(), True)\\\n",
    "                       ,StructField(\"HUMI\", FloatType(), True)\\\n",
    "                       ,StructField(\"PRES\", FloatType(), True)\\\n",
    "                       ,StructField(\"TEMP\", FloatType(), True)\\\n",
    "                       ,StructField(\"cbwd\", IntegerType(), True)\\\n",
    "                       ,StructField(\"Iws\", FloatType(), True)\\\n",
    "                       ,StructField(\"precipitation\", FloatType(), True)\\\n",
    "                       ,StructField(\"Iprec\", FloatType(), True)\\\n",
    "                       ,StructField(\"PML\", IntegerType(), True)])\n",
    "\n",
    "df_spark = spark.createDataFrame(df_pd_balanced,schema=mySchema)\n",
    "\n",
    "#Check if success or not\n",
    "print(\"Total data points in Spark dataframe:\", df_spark.count())\n",
    "print(\"Total data points in Pandas dataframe:\",df_pd_balanced['PM2.5'].value_counts().sum())\n",
    "df_spark.show(1)\n",
    "df_pd_balanced.head(1)\n"
   ]
  },
  {
   "cell_type": "markdown",
   "metadata": {},
   "source": [
    "# Data Mining Method/Algorithm Selection\n",
    "### Check Correlations"
   ]
  },
  {
   "cell_type": "code",
   "execution_count": 25,
   "metadata": {},
   "outputs": [
    {
     "data": {
      "text/html": [
       "<div>\n",
       "<style scoped>\n",
       "    .dataframe tbody tr th:only-of-type {\n",
       "        vertical-align: middle;\n",
       "    }\n",
       "\n",
       "    .dataframe tbody tr th {\n",
       "        vertical-align: top;\n",
       "    }\n",
       "\n",
       "    .dataframe thead th {\n",
       "        text-align: right;\n",
       "    }\n",
       "</style>\n",
       "<table border=\"1\" class=\"dataframe\">\n",
       "  <thead>\n",
       "    <tr style=\"text-align: right;\">\n",
       "      <th></th>\n",
       "      <th>year</th>\n",
       "      <th>month</th>\n",
       "      <th>day</th>\n",
       "      <th>hour</th>\n",
       "      <th>season</th>\n",
       "      <th>DEWP</th>\n",
       "      <th>HUMI</th>\n",
       "      <th>PRES</th>\n",
       "      <th>TEMP</th>\n",
       "      <th>cbwd</th>\n",
       "      <th>Iws</th>\n",
       "      <th>precipitation</th>\n",
       "      <th>Iprec</th>\n",
       "      <th>PM2.5</th>\n",
       "    </tr>\n",
       "  </thead>\n",
       "  <tbody>\n",
       "    <tr>\n",
       "      <th>year</th>\n",
       "      <td>1.000</td>\n",
       "      <td>-0.238</td>\n",
       "      <td>-0.001</td>\n",
       "      <td>-0.001</td>\n",
       "      <td>-0.088</td>\n",
       "      <td>-0.056</td>\n",
       "      <td>-0.083</td>\n",
       "      <td>0.061</td>\n",
       "      <td>-0.011</td>\n",
       "      <td>-0.011</td>\n",
       "      <td>0.021</td>\n",
       "      <td>-0.001</td>\n",
       "      <td>0.004</td>\n",
       "      <td>-0.151</td>\n",
       "    </tr>\n",
       "    <tr>\n",
       "      <th>month</th>\n",
       "      <td>-0.238</td>\n",
       "      <td>1.000</td>\n",
       "      <td>0.018</td>\n",
       "      <td>0.005</td>\n",
       "      <td>0.170</td>\n",
       "      <td>0.242</td>\n",
       "      <td>0.212</td>\n",
       "      <td>0.087</td>\n",
       "      <td>0.118</td>\n",
       "      <td>-0.025</td>\n",
       "      <td>-0.046</td>\n",
       "      <td>0.013</td>\n",
       "      <td>0.025</td>\n",
       "      <td>-0.190</td>\n",
       "    </tr>\n",
       "    <tr>\n",
       "      <th>day</th>\n",
       "      <td>-0.001</td>\n",
       "      <td>0.018</td>\n",
       "      <td>1.000</td>\n",
       "      <td>-0.008</td>\n",
       "      <td>-0.013</td>\n",
       "      <td>0.021</td>\n",
       "      <td>-0.010</td>\n",
       "      <td>-0.004</td>\n",
       "      <td>0.024</td>\n",
       "      <td>-0.035</td>\n",
       "      <td>-0.022</td>\n",
       "      <td>-0.012</td>\n",
       "      <td>-0.019</td>\n",
       "      <td>0.068</td>\n",
       "    </tr>\n",
       "    <tr>\n",
       "      <th>hour</th>\n",
       "      <td>-0.001</td>\n",
       "      <td>0.005</td>\n",
       "      <td>-0.008</td>\n",
       "      <td>1.000</td>\n",
       "      <td>-0.002</td>\n",
       "      <td>-0.042</td>\n",
       "      <td>-0.366</td>\n",
       "      <td>-0.053</td>\n",
       "      <td>0.163</td>\n",
       "      <td>0.098</td>\n",
       "      <td>0.175</td>\n",
       "      <td>-0.006</td>\n",
       "      <td>-0.008</td>\n",
       "      <td>-0.083</td>\n",
       "    </tr>\n",
       "    <tr>\n",
       "      <th>season</th>\n",
       "      <td>-0.088</td>\n",
       "      <td>0.170</td>\n",
       "      <td>-0.013</td>\n",
       "      <td>-0.002</td>\n",
       "      <td>1.000</td>\n",
       "      <td>-0.495</td>\n",
       "      <td>0.212</td>\n",
       "      <td>0.558</td>\n",
       "      <td>-0.619</td>\n",
       "      <td>-0.107</td>\n",
       "      <td>-0.097</td>\n",
       "      <td>-0.045</td>\n",
       "      <td>-0.038</td>\n",
       "      <td>0.329</td>\n",
       "    </tr>\n",
       "    <tr>\n",
       "      <th>DEWP</th>\n",
       "      <td>-0.056</td>\n",
       "      <td>0.242</td>\n",
       "      <td>0.021</td>\n",
       "      <td>-0.042</td>\n",
       "      <td>-0.495</td>\n",
       "      <td>1.000</td>\n",
       "      <td>0.273</td>\n",
       "      <td>-0.727</td>\n",
       "      <td>0.820</td>\n",
       "      <td>0.087</td>\n",
       "      <td>0.023</td>\n",
       "      <td>0.105</td>\n",
       "      <td>0.119</td>\n",
       "      <td>-0.372</td>\n",
       "    </tr>\n",
       "    <tr>\n",
       "      <th>HUMI</th>\n",
       "      <td>-0.083</td>\n",
       "      <td>0.212</td>\n",
       "      <td>-0.010</td>\n",
       "      <td>-0.366</td>\n",
       "      <td>0.212</td>\n",
       "      <td>0.273</td>\n",
       "      <td>1.000</td>\n",
       "      <td>0.091</td>\n",
       "      <td>-0.315</td>\n",
       "      <td>-0.102</td>\n",
       "      <td>-0.135</td>\n",
       "      <td>0.073</td>\n",
       "      <td>0.110</td>\n",
       "      <td>0.112</td>\n",
       "    </tr>\n",
       "    <tr>\n",
       "      <th>PRES</th>\n",
       "      <td>0.061</td>\n",
       "      <td>0.087</td>\n",
       "      <td>-0.004</td>\n",
       "      <td>-0.053</td>\n",
       "      <td>0.558</td>\n",
       "      <td>-0.727</td>\n",
       "      <td>0.091</td>\n",
       "      <td>1.000</td>\n",
       "      <td>-0.773</td>\n",
       "      <td>-0.085</td>\n",
       "      <td>-0.094</td>\n",
       "      <td>-0.097</td>\n",
       "      <td>-0.101</td>\n",
       "      <td>0.277</td>\n",
       "    </tr>\n",
       "    <tr>\n",
       "      <th>TEMP</th>\n",
       "      <td>-0.011</td>\n",
       "      <td>0.118</td>\n",
       "      <td>0.024</td>\n",
       "      <td>0.163</td>\n",
       "      <td>-0.619</td>\n",
       "      <td>0.820</td>\n",
       "      <td>-0.315</td>\n",
       "      <td>-0.773</td>\n",
       "      <td>1.000</td>\n",
       "      <td>0.145</td>\n",
       "      <td>0.101</td>\n",
       "      <td>0.064</td>\n",
       "      <td>0.060</td>\n",
       "      <td>-0.437</td>\n",
       "    </tr>\n",
       "    <tr>\n",
       "      <th>cbwd</th>\n",
       "      <td>-0.011</td>\n",
       "      <td>-0.025</td>\n",
       "      <td>-0.035</td>\n",
       "      <td>0.098</td>\n",
       "      <td>-0.107</td>\n",
       "      <td>0.087</td>\n",
       "      <td>-0.102</td>\n",
       "      <td>-0.085</td>\n",
       "      <td>0.145</td>\n",
       "      <td>1.000</td>\n",
       "      <td>0.227</td>\n",
       "      <td>0.011</td>\n",
       "      <td>0.007</td>\n",
       "      <td>-0.128</td>\n",
       "    </tr>\n",
       "    <tr>\n",
       "      <th>Iws</th>\n",
       "      <td>0.021</td>\n",
       "      <td>-0.046</td>\n",
       "      <td>-0.022</td>\n",
       "      <td>0.175</td>\n",
       "      <td>-0.097</td>\n",
       "      <td>0.023</td>\n",
       "      <td>-0.135</td>\n",
       "      <td>-0.094</td>\n",
       "      <td>0.101</td>\n",
       "      <td>0.227</td>\n",
       "      <td>1.000</td>\n",
       "      <td>0.056</td>\n",
       "      <td>0.107</td>\n",
       "      <td>-0.219</td>\n",
       "    </tr>\n",
       "    <tr>\n",
       "      <th>precipitation</th>\n",
       "      <td>-0.001</td>\n",
       "      <td>0.013</td>\n",
       "      <td>-0.012</td>\n",
       "      <td>-0.006</td>\n",
       "      <td>-0.045</td>\n",
       "      <td>0.105</td>\n",
       "      <td>0.073</td>\n",
       "      <td>-0.097</td>\n",
       "      <td>0.064</td>\n",
       "      <td>0.011</td>\n",
       "      <td>0.056</td>\n",
       "      <td>1.000</td>\n",
       "      <td>0.497</td>\n",
       "      <td>-0.078</td>\n",
       "    </tr>\n",
       "    <tr>\n",
       "      <th>Iprec</th>\n",
       "      <td>0.004</td>\n",
       "      <td>0.025</td>\n",
       "      <td>-0.019</td>\n",
       "      <td>-0.008</td>\n",
       "      <td>-0.038</td>\n",
       "      <td>0.119</td>\n",
       "      <td>0.110</td>\n",
       "      <td>-0.101</td>\n",
       "      <td>0.060</td>\n",
       "      <td>0.007</td>\n",
       "      <td>0.107</td>\n",
       "      <td>0.497</td>\n",
       "      <td>1.000</td>\n",
       "      <td>-0.115</td>\n",
       "    </tr>\n",
       "    <tr>\n",
       "      <th>PM2.5</th>\n",
       "      <td>-0.151</td>\n",
       "      <td>-0.190</td>\n",
       "      <td>0.068</td>\n",
       "      <td>-0.083</td>\n",
       "      <td>0.329</td>\n",
       "      <td>-0.372</td>\n",
       "      <td>0.112</td>\n",
       "      <td>0.277</td>\n",
       "      <td>-0.437</td>\n",
       "      <td>-0.128</td>\n",
       "      <td>-0.219</td>\n",
       "      <td>-0.078</td>\n",
       "      <td>-0.115</td>\n",
       "      <td>1.000</td>\n",
       "    </tr>\n",
       "  </tbody>\n",
       "</table>\n",
       "</div>"
      ],
      "text/plain": [
       "                year  month    day   hour  season   DEWP   HUMI   PRES   TEMP  \\\n",
       "year           1.000 -0.238 -0.001 -0.001  -0.088 -0.056 -0.083  0.061 -0.011   \n",
       "month         -0.238  1.000  0.018  0.005   0.170  0.242  0.212  0.087  0.118   \n",
       "day           -0.001  0.018  1.000 -0.008  -0.013  0.021 -0.010 -0.004  0.024   \n",
       "hour          -0.001  0.005 -0.008  1.000  -0.002 -0.042 -0.366 -0.053  0.163   \n",
       "season        -0.088  0.170 -0.013 -0.002   1.000 -0.495  0.212  0.558 -0.619   \n",
       "DEWP          -0.056  0.242  0.021 -0.042  -0.495  1.000  0.273 -0.727  0.820   \n",
       "HUMI          -0.083  0.212 -0.010 -0.366   0.212  0.273  1.000  0.091 -0.315   \n",
       "PRES           0.061  0.087 -0.004 -0.053   0.558 -0.727  0.091  1.000 -0.773   \n",
       "TEMP          -0.011  0.118  0.024  0.163  -0.619  0.820 -0.315 -0.773  1.000   \n",
       "cbwd          -0.011 -0.025 -0.035  0.098  -0.107  0.087 -0.102 -0.085  0.145   \n",
       "Iws            0.021 -0.046 -0.022  0.175  -0.097  0.023 -0.135 -0.094  0.101   \n",
       "precipitation -0.001  0.013 -0.012 -0.006  -0.045  0.105  0.073 -0.097  0.064   \n",
       "Iprec          0.004  0.025 -0.019 -0.008  -0.038  0.119  0.110 -0.101  0.060   \n",
       "PM2.5         -0.151 -0.190  0.068 -0.083   0.329 -0.372  0.112  0.277 -0.437   \n",
       "\n",
       "                cbwd    Iws  precipitation  Iprec  PM2.5  \n",
       "year          -0.011  0.021         -0.001  0.004 -0.151  \n",
       "month         -0.025 -0.046          0.013  0.025 -0.190  \n",
       "day           -0.035 -0.022         -0.012 -0.019  0.068  \n",
       "hour           0.098  0.175         -0.006 -0.008 -0.083  \n",
       "season        -0.107 -0.097         -0.045 -0.038  0.329  \n",
       "DEWP           0.087  0.023          0.105  0.119 -0.372  \n",
       "HUMI          -0.102 -0.135          0.073  0.110  0.112  \n",
       "PRES          -0.085 -0.094         -0.097 -0.101  0.277  \n",
       "TEMP           0.145  0.101          0.064  0.060 -0.437  \n",
       "cbwd           1.000  0.227          0.011  0.007 -0.128  \n",
       "Iws            0.227  1.000          0.056  0.107 -0.219  \n",
       "precipitation  0.011  0.056          1.000  0.497 -0.078  \n",
       "Iprec          0.007  0.107          0.497  1.000 -0.115  \n",
       "PM2.5         -0.128 -0.219         -0.078 -0.115  1.000  "
      ]
     },
     "execution_count": 25,
     "metadata": {},
     "output_type": "execute_result"
    }
   ],
   "source": [
    "round(df_pd_balanced.corr(),3)"
   ]
  },
  {
   "cell_type": "code",
   "execution_count": 26,
   "metadata": {
    "scrolled": false
   },
   "outputs": [
    {
     "name": "stdout",
     "output_type": "stream",
     "text": [
      "Correlations:\n",
      "PM2.5/year: -0.151\n",
      "PM2.5/month: -0.19\n",
      "PM2.5/day: 0.068\n",
      "PM2.5/hour: -0.083\n",
      "PM2.5/season: 0.329\n",
      "PM2.5/DEWP: -0.372\n",
      "PM2.5/HUMI: 0.112\n",
      "PM2.5/PRES: 0.277\n",
      "PM2.5/TEMP: -0.437\n",
      "PM2.5/cbwd: -0.128\n",
      "PM2.5/Iws: -0.219\n",
      "PM2.5/precipitation: -0.078\n",
      "PM2.5/Iprec: -0.115\n"
     ]
    }
   ],
   "source": [
    "# Check the correlations of PM2.5\n",
    "print('Correlations:')\n",
    "print('PM2.5/year:',round(df_pd_balanced['PM2.5'].corr(df_pd_balanced['year']),3))\n",
    "print('PM2.5/month:',round(df_pd_balanced['PM2.5'].corr(df_pd_balanced['month']),3))\n",
    "print('PM2.5/day:',round(df_pd_balanced['PM2.5'].corr(df_pd_balanced['day']),3))\n",
    "print('PM2.5/hour:',round(df_pd_balanced['PM2.5'].corr(df_pd_balanced['hour']),3))\n",
    "print('PM2.5/season:',round(df_pd_balanced['PM2.5'].corr(df_pd_balanced['season']),3))\n",
    "print('PM2.5/DEWP:',round(df_pd_balanced['PM2.5'].corr(df_pd_balanced['DEWP']),3))\n",
    "print('PM2.5/HUMI:',round(df_pd_balanced['PM2.5'].corr(df_pd_balanced['HUMI']),3))\n",
    "print('PM2.5/PRES:',round(df_pd_balanced['PM2.5'].corr(df_pd_balanced['PRES']),3))\n",
    "print('PM2.5/TEMP:',round(df_pd_balanced['PM2.5'].corr(df_pd_balanced['TEMP']),3))\n",
    "print('PM2.5/cbwd:',round(df_pd_balanced['PM2.5'].corr(df_pd_balanced['cbwd']),3))\n",
    "print('PM2.5/Iws:',round(df_pd_balanced['PM2.5'].corr(df_pd_balanced['Iws']),3))\n",
    "print('PM2.5/precipitation:',round(df_pd_balanced['PM2.5'].corr(df_pd_balanced['precipitation']),3))\n",
    "print('PM2.5/Iprec:',round(df_pd_balanced['PM2.5'].corr(df_pd_balanced['Iprec']),3))"
   ]
  },
  {
   "cell_type": "markdown",
   "metadata": {},
   "source": [
    "### Select relvent features"
   ]
  },
  {
   "cell_type": "code",
   "execution_count": 27,
   "metadata": {
    "scrolled": false
   },
   "outputs": [
    {
     "name": "stdout",
     "output_type": "stream",
     "text": [
      "root\n",
      " |-- season: integer (nullable = true)\n",
      " |-- DEWP: float (nullable = true)\n",
      " |-- PRES: float (nullable = true)\n",
      " |-- TEMP: float (nullable = true)\n",
      " |-- Iws: float (nullable = true)\n",
      " |-- PML: integer (nullable = true)\n",
      "\n"
     ]
    }
   ],
   "source": [
    "df_dm = df_spark.select('season', 'DEWP', 'PRES','TEMP','Iws','PML')\n",
    "df_dm.printSchema()"
   ]
  },
  {
   "cell_type": "markdown",
   "metadata": {},
   "source": [
    "# Data Mining\n",
    "\n",
    "#### Create VectorAssembler"
   ]
  },
  {
   "cell_type": "code",
   "execution_count": 28,
   "metadata": {
    "scrolled": true
   },
   "outputs": [
    {
     "name": "stdout",
     "output_type": "stream",
     "text": [
      "root\n",
      " |-- season: integer (nullable = true)\n",
      " |-- DEWP: float (nullable = true)\n",
      " |-- PRES: float (nullable = true)\n",
      " |-- TEMP: float (nullable = true)\n",
      " |-- Iws: float (nullable = true)\n",
      " |-- PML: integer (nullable = true)\n",
      " |-- features: vector (nullable = true)\n",
      "\n"
     ]
    },
    {
     "data": {
      "text/plain": [
       "[Row(season=2, DEWP=22.0, PRES=1004.0, TEMP=25.0, Iws=19.0, PML=1, features=DenseVector([2.0, 22.0, 1004.0, 25.0, 19.0]))]"
      ]
     },
     "execution_count": 28,
     "metadata": {},
     "output_type": "execute_result"
    }
   ],
   "source": [
    "# Import VectorAssembler and Vectors\n",
    "from pyspark.ml.feature import VectorAssembler\n",
    "\n",
    "# The input columns are the feature column names, and the output column is what you'd like the new column to be named. \n",
    "vector_assembler = VectorAssembler(inputCols = ['season', 'DEWP', 'PRES', 'TEMP', 'Iws'], outputCol = 'features')\n",
    "\n",
    "# Transform the data.\n",
    "vector_output = vector_assembler.transform(df_dm)\n",
    "\n",
    "# Using print schema, see the features output column has been added. \n",
    "vector_output.printSchema()\n",
    "\n",
    "# See that the features column is a DenseVector that combines the various features as expected.\n",
    "vector_output.head(1)"
   ]
  },
  {
   "cell_type": "markdown",
   "metadata": {},
   "source": [
    "#### Feature Selection"
   ]
  },
  {
   "cell_type": "code",
   "execution_count": 29,
   "metadata": {
    "scrolled": true
   },
   "outputs": [
    {
     "name": "stdout",
     "output_type": "stream",
     "text": [
      "[Row(season=2, DEWP=22.0, PRES=1004.0, TEMP=25.0, Iws=19.0, features=DenseVector([2.0, 22.0, 1004.0, 25.0, 19.0]), label=1)]\n",
      "+------+----+------+----+----+--------------------+-----+\n",
      "|season|DEWP|  PRES|TEMP| Iws|            features|label|\n",
      "+------+----+------+----+----+--------------------+-----+\n",
      "|     2|22.0|1004.0|25.0|19.0|[2.0,22.0,1004.0,...|    1|\n",
      "|     2|20.0|1007.0|22.0| 3.0|[2.0,20.0,1007.0,...|    1|\n",
      "|     3|13.0|1020.0|13.0| 3.0|[3.0,13.0,1020.0,...|    1|\n",
      "+------+----+------+----+----+--------------------+-----+\n",
      "only showing top 3 rows\n",
      "\n"
     ]
    }
   ],
   "source": [
    "# Check vector_output\n",
    "vector_output = vector_output.selectExpr('season as season', 'DEWP as DEWP', 'PRES as PRES', 'TEMP as TEMP', 'Iws as Iws','features as features',\"PML as label\")\n",
    "# Check the dataframe now only contains two columns. \n",
    "print(vector_output.head(1))\n",
    "vector_output.show(3)"
   ]
  },
  {
   "cell_type": "markdown",
   "metadata": {},
   "source": [
    "#### Split dataset"
   ]
  },
  {
   "cell_type": "code",
   "execution_count": 30,
   "metadata": {},
   "outputs": [
    {
     "name": "stdout",
     "output_type": "stream",
     "text": [
      "Training Dataset Count: 12220\n",
      "Test Dataset Count: 5156\n"
     ]
    }
   ],
   "source": [
    "# Do a randomised 70/30 split\n",
    "train_data,test_data = vector_output.randomSplit([0.7,0.3])\n",
    "print(\"Training Dataset Count: \" + str(train_data.count()))\n",
    "print(\"Test Dataset Count: \" + str(test_data.count()))"
   ]
  },
  {
   "cell_type": "markdown",
   "metadata": {},
   "source": [
    "### Linear Regression"
   ]
  },
  {
   "cell_type": "code",
   "execution_count": 31,
   "metadata": {},
   "outputs": [],
   "source": [
    "# Importing the LR package.\n",
    "from pyspark.ml.regression import LinearRegression\n",
    "\n",
    "# Instantiate the instance.\n",
    "lr = LinearRegression(featuresCol='features', labelCol='label')\n",
    "\n",
    "# Fit the training data.\n",
    "lr_model = lr.fit(train_data)"
   ]
  },
  {
   "cell_type": "code",
   "execution_count": 32,
   "metadata": {},
   "outputs": [
    {
     "name": "stdout",
     "output_type": "stream",
     "text": [
      "Coefficients: [0.12055841944475999,-0.019632717899984668,-0.030966734285666937,-0.05878805155637103,-0.03450848213053406] 4\n",
      "Intercept: 34.98776313378252\n",
      "\n",
      "MSE = 0.9362774858574213\n",
      "RMSE = 0.967614327021578\n",
      "R-squared = 0.2474270667638363\n",
      "MAE = 0.8122787397706893\n",
      "Explained variance = 0.3078245067979445\n"
     ]
    }
   ],
   "source": [
    "# Print the coefficients.\n",
    "print(\"Coefficients: \" + str(lr_model.coefficients),4)\n",
    "# Print the intercept.\n",
    "print(\"Intercept: \" + str(lr_model.intercept) + \"\\n\")\n",
    "\n",
    "# Summarise the model and print out some evaluation metrics.\n",
    "training_summary = lr_model.summary\n",
    "# Squared Error\n",
    "print(\"MSE = %s\" % training_summary.meanSquaredError)\n",
    "print(\"RMSE = %s\" % training_summary.rootMeanSquaredError)\n",
    "# R-squared\n",
    "print(\"R-squared = %s\" % training_summary.r2)\n",
    "# Mean absolute error\n",
    "print(\"MAE = %s\" % training_summary.meanAbsoluteError)\n",
    "# Explained variance\n",
    "print(\"Explained variance = %s\" % training_summary.explainedVariance)\n"
   ]
  },
  {
   "cell_type": "code",
   "execution_count": 33,
   "metadata": {},
   "outputs": [
    {
     "name": "stdout",
     "output_type": "stream",
     "text": [
      "MSE on test data:0.9620147187252588\n",
      "RMSE on test data: 0.9808234900965916\n",
      "R2 on test data: 0.23887053124472446\n",
      "MAE on test data: 0.8265650203383832\n",
      "Explained variance on test data: 0.29899331589901856\n"
     ]
    }
   ],
   "source": [
    "# Evaluate the model against the test data.\n",
    "test_results = lr_model.evaluate(test_data)\n",
    "\n",
    "# Evaluation against the test data\n",
    "print(\"MSE on test data:\" + str(test_results.meanSquaredError))\n",
    "print(\"RMSE on test data: \" + str(test_results.rootMeanSquaredError))\n",
    "print(\"R2 on test data: \" + str(test_results.r2))\n",
    "print(\"MAE on test data: \" + str(test_results.meanAbsoluteError))\n",
    "print(\"Explained variance on test data: \" + str(test_results.explainedVariance))"
   ]
  },
  {
   "cell_type": "markdown",
   "metadata": {},
   "source": [
    "### Multi-Classification\n",
    "### Mulitcalss Logistic Regression"
   ]
  },
  {
   "cell_type": "code",
   "execution_count": 34,
   "metadata": {},
   "outputs": [],
   "source": [
    "# Import evaluator\n",
    "from pyspark.ml.evaluation import MulticlassClassificationEvaluator\n",
    "evaluator = MulticlassClassificationEvaluator()"
   ]
  },
  {
   "cell_type": "code",
   "execution_count": 35,
   "metadata": {},
   "outputs": [],
   "source": [
    "from pyspark.ml.classification import LogisticRegression\n",
    "\n",
    "mlr = LogisticRegression(featuresCol = 'features', labelCol = 'label', maxIter=10)\n",
    "mlr_model = mlr.fit(train_data)"
   ]
  },
  {
   "cell_type": "markdown",
   "metadata": {},
   "source": [
    "##### Evaluate Logistic Regression"
   ]
  },
  {
   "cell_type": "code",
   "execution_count": 36,
   "metadata": {},
   "outputs": [
    {
     "name": "stdout",
     "output_type": "stream",
     "text": [
      "+--------------------+-----+\n",
      "|            features|label|\n",
      "+--------------------+-----+\n",
      "|[1.0,-5.0,1013.0,...|    2|\n",
      "|[1.0,-5.0,1013.0,...|    2|\n",
      "|[1.0,-5.0,1016.0,...|    2|\n",
      "|[1.0,-4.0,1014.0,...|    2|\n",
      "|[1.0,-2.0,1020.0,...|    1|\n",
      "|[1.0,-2.0,1020.0,...|    1|\n",
      "|[1.0,-2.0,1024.0,...|    2|\n",
      "|[1.0,-1.0,1008.0,...|    4|\n",
      "|[1.0,-1.0,1012.0,...|    4|\n",
      "|[1.0,-1.0,1018.0,...|    3|\n",
      "+--------------------+-----+\n",
      "only showing top 10 rows\n",
      "\n",
      "Test Area Under ROC 0.37308684193418096\n"
     ]
    }
   ],
   "source": [
    "predictions_mlr = mlr_model.transform(test_data)\n",
    "predictions_mlr.select('features','label').show(10)\n",
    "\n",
    "print('Test Area Under ROC', evaluator.evaluate(predictions_mlr))"
   ]
  },
  {
   "cell_type": "markdown",
   "metadata": {},
   "source": [
    "### Decision Tree Classifier"
   ]
  },
  {
   "cell_type": "code",
   "execution_count": 37,
   "metadata": {},
   "outputs": [
    {
     "name": "stdout",
     "output_type": "stream",
     "text": [
      "+------+----+------+----+----+-----+\n",
      "|season|DEWP|  PRES|TEMP| Iws|label|\n",
      "+------+----+------+----+----+-----+\n",
      "|     1|-5.0|1013.0|13.0| 8.0|    2|\n",
      "|     1|-5.0|1013.0|13.0| 8.0|    2|\n",
      "|     1|-5.0|1016.0|16.0| 2.0|    2|\n",
      "|     1|-4.0|1014.0|17.0| 2.0|    2|\n",
      "|     1|-2.0|1020.0|13.0| 2.0|    1|\n",
      "|     1|-2.0|1020.0|13.0| 2.0|    1|\n",
      "|     1|-2.0|1024.0|15.0| 3.0|    2|\n",
      "|     1|-1.0|1008.0|25.0| 4.0|    4|\n",
      "|     1|-1.0|1012.0|23.0| 6.0|    4|\n",
      "|     1|-1.0|1018.0|24.0|15.0|    3|\n",
      "+------+----+------+----+----+-----+\n",
      "only showing top 10 rows\n",
      "\n"
     ]
    }
   ],
   "source": [
    "from pyspark.ml.classification import DecisionTreeClassifier\n",
    "dt = DecisionTreeClassifier(featuresCol = 'features', labelCol = 'label', maxDepth = 3)\n",
    "dtModel = dt.fit(train_data)\n",
    "predictions_dt = dtModel.transform(test_data)\n",
    "predictions_dt.select('season', 'DEWP', 'PRES', 'TEMP', 'Iws', 'label').show(10)"
   ]
  },
  {
   "cell_type": "markdown",
   "metadata": {},
   "source": [
    "##### Evaluate Decision Tree"
   ]
  },
  {
   "cell_type": "code",
   "execution_count": 38,
   "metadata": {},
   "outputs": [
    {
     "name": "stdout",
     "output_type": "stream",
     "text": [
      "Test Area Under ROC: 0.3855352228203954\n"
     ]
    }
   ],
   "source": [
    "evaluator_dt = MulticlassClassificationEvaluator()\n",
    "print(\"Test Area Under ROC: \" + str(evaluator_dt.evaluate(predictions_dt, {evaluator.metricName: \"areaUnderROC\"})))"
   ]
  },
  {
   "cell_type": "markdown",
   "metadata": {},
   "source": [
    "### Random Forest Classifier"
   ]
  },
  {
   "cell_type": "code",
   "execution_count": 39,
   "metadata": {
    "scrolled": true
   },
   "outputs": [
    {
     "name": "stdout",
     "output_type": "stream",
     "text": [
      "+------+----+------+----+----+-----+\n",
      "|season|DEWP|  PRES|TEMP| Iws|label|\n",
      "+------+----+------+----+----+-----+\n",
      "|     1|-5.0|1013.0|13.0| 8.0|    2|\n",
      "|     1|-5.0|1013.0|13.0| 8.0|    2|\n",
      "|     1|-5.0|1016.0|16.0| 2.0|    2|\n",
      "|     1|-4.0|1014.0|17.0| 2.0|    2|\n",
      "|     1|-2.0|1020.0|13.0| 2.0|    1|\n",
      "|     1|-2.0|1020.0|13.0| 2.0|    1|\n",
      "|     1|-2.0|1024.0|15.0| 3.0|    2|\n",
      "|     1|-1.0|1008.0|25.0| 4.0|    4|\n",
      "|     1|-1.0|1012.0|23.0| 6.0|    4|\n",
      "|     1|-1.0|1018.0|24.0|15.0|    3|\n",
      "+------+----+------+----+----+-----+\n",
      "only showing top 10 rows\n",
      "\n"
     ]
    }
   ],
   "source": [
    "from pyspark.ml.classification import RandomForestClassifier\n",
    "rf = RandomForestClassifier(featuresCol = 'features', labelCol = 'label')\n",
    "rfModel = rf.fit(train_data)\n",
    "predictions_rf = rfModel.transform(test_data)\n",
    "predictions_rf.select('season', 'DEWP', 'PRES', 'TEMP', 'Iws', 'label').show(10)"
   ]
  },
  {
   "cell_type": "markdown",
   "metadata": {},
   "source": [
    "##### Evaluate Random Forest"
   ]
  },
  {
   "cell_type": "code",
   "execution_count": 40,
   "metadata": {},
   "outputs": [
    {
     "name": "stdout",
     "output_type": "stream",
     "text": [
      "Test Area Under ROC: 0.4609641722399163\n"
     ]
    }
   ],
   "source": [
    "evaluator_rf = MulticlassClassificationEvaluator()\n",
    "print(\"Test Area Under ROC: \" + str(evaluator_rf.evaluate(predictions_rf, {evaluator.metricName: \"areaUnderROC\"})))"
   ]
  },
  {
   "cell_type": "markdown",
   "metadata": {},
   "source": [
    "### Results Visualization\n",
    "#### Linear Regression - Beta Coefficients"
   ]
  },
  {
   "cell_type": "code",
   "execution_count": 41,
   "metadata": {
    "scrolled": true
   },
   "outputs": [
    {
     "data": {
      "image/png": "[encoded data removed]",
      "text/plain": [
       "<Figure size 432x288 with 1 Axes>"
      ]
     },
     "metadata": {},
     "output_type": "display_data"
    }
   ],
   "source": [
    "import matplotlib.pyplot as plt\n",
    "import numpy as np\n",
    "beta = np.sort(lr_model.coefficients)\n",
    "plt.plot(beta)\n",
    "plt.ylabel('Beta Coefficients')\n",
    "plt.show()"
   ]
  },
  {
   "cell_type": "markdown",
   "metadata": {},
   "source": [
    "#### AUC of Random Forest"
   ]
  },
  {
   "cell_type": "code",
   "execution_count": 42,
   "metadata": {},
   "outputs": [
    {
     "name": "stdout",
     "output_type": "stream",
     "text": [
      "Test Area Under ROC: 0.4609641722399163\n"
     ]
    }
   ],
   "source": [
    "evaluator_rf = MulticlassClassificationEvaluator()\n",
    "print(\"Test Area Under ROC: \" + str(evaluator_rf.evaluate(predictions_rf, {evaluator.metricName: \"areaUnderROC\"})))"
   ]
  }
 ],
 "metadata": {
  "kernelspec": {
   "display_name": "Python 3",
   "language": "python",
   "name": "python3"
  },
  "language_info": {
   "codemirror_mode": {
    "name": "ipython",
    "version": 3
   },
   "file_extension": ".py",
   "mimetype": "text/x-python",
   "name": "python",
   "nbconvert_exporter": "python",
   "pygments_lexer": "ipython3",
   "version": "3.5.2"
  }
 },
 "nbformat": 4,
 "nbformat_minor": 2
}
